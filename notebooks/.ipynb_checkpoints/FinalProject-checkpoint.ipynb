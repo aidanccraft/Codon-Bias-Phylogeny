{
 "cells": [
  {
   "cell_type": "code",
   "execution_count": 1,
   "id": "b466dcce-75bd-4b12-9177-e38831ea7e83",
   "metadata": {},
   "outputs": [],
   "source": [
    "#imports\n",
    "import numpy as np\n",
    "from Bio import Phylo\n",
    "import pandas as pd"
   ]
  },
  {
   "cell_type": "markdown",
   "id": "b36c0417-7703-4f2e-a2c9-bec1fdacbe98",
   "metadata": {
    "tags": []
   },
   "source": [
    "# Background"
   ]
  },
  {
   "cell_type": "markdown",
   "id": "9ce5bdb8-842b-4046-b037-fd7719a0a4ba",
   "metadata": {},
   "source": [
    "The purpose of this project is to investigate if codon bias is an indicator for phylogenetic relationships. If codon bias does prove to be an indicator, this could be used to increase understanding of the relationship between different organisms. A csv file containing the codon bias for many different organisms was taken from Kaggle (source?). TO make the project more manageable, rodents were selected to be the focus on the project. The data was analyzed by creating a data frame and using pandas techniques from BIOL300 such as reading in a file and indexing a data frame. To create a phylogenetic tree, the algorithm UPGMA from BIOL301 was used. "
   ]
  },
  {
   "cell_type": "markdown",
   "id": "b820c426-ee31-42fa-bdef-6b04795ffcc2",
   "metadata": {
    "tags": []
   },
   "source": [
    "# Part 1 - Preparing the Data"
   ]
  },
  {
   "cell_type": "markdown",
   "id": "79dcc258-8afe-4f89-8c96-c8b14837f6c1",
   "metadata": {},
   "source": [
    "First, the csv file must be read into the file as a data frame. This was done using Pandas a skills from BIOL300. "
   ]
  },
  {
   "cell_type": "code",
   "execution_count": 2,
   "id": "ad3d4fbe-10ca-42bf-8acc-afadcc6272fe",
   "metadata": {},
   "outputs": [
    {
     "name": "stderr",
     "output_type": "stream",
     "text": [
      "C:\\Users\\astro\\AppData\\Local\\Temp\\ipykernel_22648\\2449211354.py:3: DtypeWarning: Columns (5,6) have mixed types. Specify dtype option on import or set low_memory=False.\n",
      "  df = pd.read_csv(f)\n"
     ]
    }
   ],
   "source": [
    "#read file into a data frame\n",
    "f = open('codon_usage.csv', 'r')\n",
    "df = pd.read_csv(f)"
   ]
  },
  {
   "cell_type": "markdown",
   "id": "c9e57e38-440e-4eae-9b42-b55b1b9160c0",
   "metadata": {},
   "source": [
    "The csv files is quite large, so it was decreased in size to be more manageable. Rodents were selected as the subject of this study, so all animals labeled as in the rodent kingdom were added to a new data frame. Then, since this data included codon bias for mitochondrial DNA, that was also removed to limit the scope of this project. "
   ]
  },
  {
   "cell_type": "code",
   "execution_count": 3,
   "id": "9e1cdc78-67f6-48bf-8790-9440cc1e4142",
   "metadata": {},
   "outputs": [],
   "source": [
    "#parse out only columns labeled as 'rod' (rodents)\n",
    "rodents_with_mit = df[df['Kingdom'] == 'rod']\n",
    "\n",
    "#remove the mitocondrial DNA by using the DNAtype column\n",
    "rodents = rodents_with_mit[rodents_with_mit['DNAtype'] == 0]"
   ]
  },
  {
   "cell_type": "code",
   "execution_count": 4,
   "id": "d14c5e93-0c08-4df5-95e9-d624fb1d6253",
   "metadata": {},
   "outputs": [
    {
     "data": {
      "text/html": [
       "<div>\n",
       "<style scoped>\n",
       "    .dataframe tbody tr th:only-of-type {\n",
       "        vertical-align: middle;\n",
       "    }\n",
       "\n",
       "    .dataframe tbody tr th {\n",
       "        vertical-align: top;\n",
       "    }\n",
       "\n",
       "    .dataframe thead th {\n",
       "        text-align: right;\n",
       "    }\n",
       "</style>\n",
       "<table border=\"1\" class=\"dataframe\">\n",
       "  <thead>\n",
       "    <tr style=\"text-align: right;\">\n",
       "      <th></th>\n",
       "      <th>Kingdom</th>\n",
       "      <th>DNAtype</th>\n",
       "      <th>SpeciesID</th>\n",
       "      <th>Ncodons</th>\n",
       "      <th>SpeciesName</th>\n",
       "      <th>UUU</th>\n",
       "      <th>UUC</th>\n",
       "      <th>UUA</th>\n",
       "      <th>UUG</th>\n",
       "      <th>CUU</th>\n",
       "      <th>...</th>\n",
       "      <th>CGG</th>\n",
       "      <th>AGA</th>\n",
       "      <th>AGG</th>\n",
       "      <th>GAU</th>\n",
       "      <th>GAC</th>\n",
       "      <th>GAA</th>\n",
       "      <th>GAG</th>\n",
       "      <th>UAA</th>\n",
       "      <th>UAG</th>\n",
       "      <th>UGA</th>\n",
       "    </tr>\n",
       "  </thead>\n",
       "  <tbody>\n",
       "    <tr>\n",
       "      <th>12645</th>\n",
       "      <td>rod</td>\n",
       "      <td>0</td>\n",
       "      <td>10036</td>\n",
       "      <td>141900</td>\n",
       "      <td>Mesocricetus auratus</td>\n",
       "      <td>0.01743</td>\n",
       "      <td>0.02507</td>\n",
       "      <td>0.00541</td>\n",
       "      <td>0.01319</td>\n",
       "      <td>0.01261</td>\n",
       "      <td>...</td>\n",
       "      <td>0.00980</td>\n",
       "      <td>0.01096</td>\n",
       "      <td>0.01113</td>\n",
       "      <td>0.01971</td>\n",
       "      <td>0.02850</td>\n",
       "      <td>0.02467</td>\n",
       "      <td>0.03870</td>\n",
       "      <td>0.00066</td>\n",
       "      <td>0.00066</td>\n",
       "      <td>0.00124</td>\n",
       "    </tr>\n",
       "    <tr>\n",
       "      <th>12646</th>\n",
       "      <td>rod</td>\n",
       "      <td>0</td>\n",
       "      <td>10041</td>\n",
       "      <td>1400</td>\n",
       "      <td>Peromyscus leucopus</td>\n",
       "      <td>0.01571</td>\n",
       "      <td>0.03214</td>\n",
       "      <td>0.00357</td>\n",
       "      <td>0.01500</td>\n",
       "      <td>0.00571</td>\n",
       "      <td>...</td>\n",
       "      <td>0.00571</td>\n",
       "      <td>0.00357</td>\n",
       "      <td>0.00857</td>\n",
       "      <td>0.01643</td>\n",
       "      <td>0.03429</td>\n",
       "      <td>0.01857</td>\n",
       "      <td>0.02857</td>\n",
       "      <td>0.00214</td>\n",
       "      <td>0.00143</td>\n",
       "      <td>0.00500</td>\n",
       "    </tr>\n",
       "    <tr>\n",
       "      <th>12647</th>\n",
       "      <td>rod</td>\n",
       "      <td>0</td>\n",
       "      <td>10042</td>\n",
       "      <td>38901</td>\n",
       "      <td>Peromyscus maniculatus</td>\n",
       "      <td>0.00925</td>\n",
       "      <td>0.03748</td>\n",
       "      <td>0.00075</td>\n",
       "      <td>0.00288</td>\n",
       "      <td>0.00781</td>\n",
       "      <td>...</td>\n",
       "      <td>0.00308</td>\n",
       "      <td>0.00298</td>\n",
       "      <td>0.00848</td>\n",
       "      <td>0.01661</td>\n",
       "      <td>0.04224</td>\n",
       "      <td>0.01049</td>\n",
       "      <td>0.02419</td>\n",
       "      <td>0.00463</td>\n",
       "      <td>0.00013</td>\n",
       "      <td>0.00162</td>\n",
       "    </tr>\n",
       "    <tr>\n",
       "      <th>12649</th>\n",
       "      <td>rod</td>\n",
       "      <td>0</td>\n",
       "      <td>10044</td>\n",
       "      <td>5133</td>\n",
       "      <td>Phodopus sungorus</td>\n",
       "      <td>0.01422</td>\n",
       "      <td>0.03098</td>\n",
       "      <td>0.00370</td>\n",
       "      <td>0.01208</td>\n",
       "      <td>0.01383</td>\n",
       "      <td>...</td>\n",
       "      <td>0.01033</td>\n",
       "      <td>0.01071</td>\n",
       "      <td>0.01052</td>\n",
       "      <td>0.01286</td>\n",
       "      <td>0.02318</td>\n",
       "      <td>0.01033</td>\n",
       "      <td>0.02572</td>\n",
       "      <td>0.00117</td>\n",
       "      <td>0.00019</td>\n",
       "      <td>0.00214</td>\n",
       "    </tr>\n",
       "    <tr>\n",
       "      <th>12650</th>\n",
       "      <td>rod</td>\n",
       "      <td>0</td>\n",
       "      <td>10047</td>\n",
       "      <td>24224</td>\n",
       "      <td>Meriones unguiculatus</td>\n",
       "      <td>0.01701</td>\n",
       "      <td>0.02778</td>\n",
       "      <td>0.00483</td>\n",
       "      <td>0.01218</td>\n",
       "      <td>0.01255</td>\n",
       "      <td>...</td>\n",
       "      <td>0.00755</td>\n",
       "      <td>0.01280</td>\n",
       "      <td>0.01016</td>\n",
       "      <td>0.01841</td>\n",
       "      <td>0.02758</td>\n",
       "      <td>0.02349</td>\n",
       "      <td>0.03513</td>\n",
       "      <td>0.00107</td>\n",
       "      <td>0.00083</td>\n",
       "      <td>0.00099</td>\n",
       "    </tr>\n",
       "  </tbody>\n",
       "</table>\n",
       "<p>5 rows × 69 columns</p>\n",
       "</div>"
      ],
      "text/plain": [
       "      Kingdom  DNAtype  SpeciesID  Ncodons             SpeciesName      UUU  \\\n",
       "12645     rod        0      10036   141900    Mesocricetus auratus  0.01743   \n",
       "12646     rod        0      10041     1400     Peromyscus leucopus  0.01571   \n",
       "12647     rod        0      10042    38901  Peromyscus maniculatus  0.00925   \n",
       "12649     rod        0      10044     5133       Phodopus sungorus  0.01422   \n",
       "12650     rod        0      10047    24224   Meriones unguiculatus  0.01701   \n",
       "\n",
       "           UUC      UUA      UUG      CUU  ...      CGG      AGA      AGG  \\\n",
       "12645  0.02507  0.00541  0.01319  0.01261  ...  0.00980  0.01096  0.01113   \n",
       "12646  0.03214  0.00357  0.01500  0.00571  ...  0.00571  0.00357  0.00857   \n",
       "12647  0.03748  0.00075  0.00288  0.00781  ...  0.00308  0.00298  0.00848   \n",
       "12649  0.03098  0.00370  0.01208  0.01383  ...  0.01033  0.01071  0.01052   \n",
       "12650  0.02778  0.00483  0.01218  0.01255  ...  0.00755  0.01280  0.01016   \n",
       "\n",
       "           GAU      GAC      GAA      GAG      UAA      UAG      UGA  \n",
       "12645  0.01971  0.02850  0.02467  0.03870  0.00066  0.00066  0.00124  \n",
       "12646  0.01643  0.03429  0.01857  0.02857  0.00214  0.00143  0.00500  \n",
       "12647  0.01661  0.04224  0.01049  0.02419  0.00463  0.00013  0.00162  \n",
       "12649  0.01286  0.02318  0.01033  0.02572  0.00117  0.00019  0.00214  \n",
       "12650  0.01841  0.02758  0.02349  0.03513  0.00107  0.00083  0.00099  \n",
       "\n",
       "[5 rows x 69 columns]"
      ]
     },
     "execution_count": 4,
     "metadata": {},
     "output_type": "execute_result"
    }
   ],
   "source": [
    "#limit the number of rodents and print out dataframe\n",
    "rodents = rodents[8:13]\n",
    "rodents"
   ]
  },
  {
   "cell_type": "markdown",
   "id": "23be3a8b-18ec-4c71-97d1-2e9bb877c5c8",
   "metadata": {},
   "source": [
    "The csv file contained codon bias across the entire genome. It was decided to normalize these percentages for each amino acid. This removed any amino acid bias between species and focuses just on the codon bias. To accomplish this, a dictionary was created to correlate each codon to a specific amino acid (source?). Multiple checks were performed to make sure all amino acids and codons were present and there were no typos. "
   ]
  },
  {
   "cell_type": "code",
   "execution_count": 5,
   "id": "c343b157-81ab-45e8-918c-05ee99fa89c6",
   "metadata": {},
   "outputs": [],
   "source": [
    "#create dictionary of amino acids and corresponding codons\n",
    "aas = {'Phe': ['UUU','UUC'], 'Leu': ['UUA','UUG','CUU','CUC','CUA','CUG'], 'Ile': ['AUU','AUC','AUA'], 'Met': ['AUG'], 'Val': ['GUU','GUC','GUA','GUG'],\n",
    "       'Ser': ['UCU','UCC','UCA','UCG','AGU','AGC'], 'Pro': ['CCU','CCC','CCA','CCG'], 'Thr': ['ACU','ACC','ACA','ACG'], 'Ala': ['GCU','GCC','GCA','GCG'], \n",
    "       'Tyr': ['UAU','UAC'], '***': ['UAA','UAG','UGA'], 'Trp': ['UGG'], 'His': ['CAU','CAC'], 'Gln': ['CAA','CAG'], 'Asn': ['AAU','AAC'], 'Lys': ['AAA','AAG'],\n",
    "       'Cys': ['UGU','UGC'], 'Arg': ['CGU','CGC','CGA','CGG','AGA','AGG'], 'Gly': ['GGU','GGC','GGA','GGG'], 'Asp': ['GAU','GAC'], 'Glu': ['GAA','GAG']}"
   ]
  },
  {
   "cell_type": "code",
   "execution_count": 6,
   "id": "2897a12f-8e60-4f73-aa74-099a5a616326",
   "metadata": {},
   "outputs": [
    {
     "data": {
      "text/plain": [
       "21"
      ]
     },
     "execution_count": 6,
     "metadata": {},
     "output_type": "execute_result"
    }
   ],
   "source": [
    "#check that all amino acids are in dictionary (20+stop = 21)\n",
    "len(aas)"
   ]
  },
  {
   "cell_type": "code",
   "execution_count": 7,
   "id": "7ed60867-077b-44d9-a418-14fd02db359d",
   "metadata": {},
   "outputs": [
    {
     "name": "stdout",
     "output_type": "stream",
     "text": [
      "64\n"
     ]
    }
   ],
   "source": [
    "#check that all codons are included in dictionary (should be 64)\n",
    "count = 0\n",
    "for i in aas:\n",
    "    count += len(aas[i])\n",
    "    \n",
    "print(count)"
   ]
  },
  {
   "cell_type": "markdown",
   "id": "82d86cca-b4aa-4c1c-809a-249f99d55eca",
   "metadata": {},
   "source": [
    "Once the dictionary was completed and checked, it was used to standardize by amino acid. By iterating through the dictionary, it was established how often each codon was used to create a certain amino acid for each animal. These new percentages were then added to the data frame, replacing the former percentages which accounted for the whole genome. The data frame was then printed to make sure the data frame was updated"
   ]
  },
  {
   "cell_type": "code",
   "execution_count": 8,
   "id": "ee499571-c1be-4e33-b508-cf48890d3fec",
   "metadata": {},
   "outputs": [],
   "source": [
    "def normalize_codom_bias(df):\n",
    "    '''Normalizes the codon usage by amino acid for a dataframe'''\n",
    "    \n",
    "    #loop through each animal\n",
    "    for animal in df['SpeciesName']:\n",
    "        species_bool = df['SpeciesName'] == animal\n",
    "        species = df[species_bool]\n",
    "\n",
    "        #loop through all amino acids\n",
    "        for aa in aas:\n",
    "            \n",
    "            #initalize total percent of amino acid\n",
    "            total = 0 \n",
    "\n",
    "            #loop through codons and add up percentages\n",
    "            for codon in aas[aa]:\n",
    "                total += species[codon]\n",
    "\n",
    "            #loop through codons, normalize by amino acid, and replace in data frame\n",
    "            for codon in aas[aa]:\n",
    "                df.loc[species_bool, [codon]] = species[codon]/total"
   ]
  },
  {
   "cell_type": "code",
   "execution_count": 9,
   "id": "947bc2b3-f1f6-4539-b8a9-782fd7483b62",
   "metadata": {},
   "outputs": [
    {
     "data": {
      "text/html": [
       "<div>\n",
       "<style scoped>\n",
       "    .dataframe tbody tr th:only-of-type {\n",
       "        vertical-align: middle;\n",
       "    }\n",
       "\n",
       "    .dataframe tbody tr th {\n",
       "        vertical-align: top;\n",
       "    }\n",
       "\n",
       "    .dataframe thead th {\n",
       "        text-align: right;\n",
       "    }\n",
       "</style>\n",
       "<table border=\"1\" class=\"dataframe\">\n",
       "  <thead>\n",
       "    <tr style=\"text-align: right;\">\n",
       "      <th></th>\n",
       "      <th>Kingdom</th>\n",
       "      <th>DNAtype</th>\n",
       "      <th>SpeciesID</th>\n",
       "      <th>Ncodons</th>\n",
       "      <th>SpeciesName</th>\n",
       "      <th>UUU</th>\n",
       "      <th>UUC</th>\n",
       "      <th>UUA</th>\n",
       "      <th>UUG</th>\n",
       "      <th>CUU</th>\n",
       "      <th>...</th>\n",
       "      <th>CGG</th>\n",
       "      <th>AGA</th>\n",
       "      <th>AGG</th>\n",
       "      <th>GAU</th>\n",
       "      <th>GAC</th>\n",
       "      <th>GAA</th>\n",
       "      <th>GAG</th>\n",
       "      <th>UAA</th>\n",
       "      <th>UAG</th>\n",
       "      <th>UGA</th>\n",
       "    </tr>\n",
       "  </thead>\n",
       "  <tbody>\n",
       "    <tr>\n",
       "      <th>12645</th>\n",
       "      <td>rod</td>\n",
       "      <td>0</td>\n",
       "      <td>10036</td>\n",
       "      <td>141900</td>\n",
       "      <td>Mesocricetus auratus</td>\n",
       "      <td>0.410118</td>\n",
       "      <td>0.589882</td>\n",
       "      <td>0.054051</td>\n",
       "      <td>0.131781</td>\n",
       "      <td>0.125987</td>\n",
       "      <td>...</td>\n",
       "      <td>0.186206</td>\n",
       "      <td>0.208246</td>\n",
       "      <td>0.211476</td>\n",
       "      <td>0.408836</td>\n",
       "      <td>0.591164</td>\n",
       "      <td>0.389301</td>\n",
       "      <td>0.610699</td>\n",
       "      <td>0.257812</td>\n",
       "      <td>0.257812</td>\n",
       "      <td>0.484375</td>\n",
       "    </tr>\n",
       "    <tr>\n",
       "      <th>12646</th>\n",
       "      <td>rod</td>\n",
       "      <td>0</td>\n",
       "      <td>10041</td>\n",
       "      <td>1400</td>\n",
       "      <td>Peromyscus leucopus</td>\n",
       "      <td>0.328318</td>\n",
       "      <td>0.671682</td>\n",
       "      <td>0.027614</td>\n",
       "      <td>0.116027</td>\n",
       "      <td>0.044168</td>\n",
       "      <td>...</td>\n",
       "      <td>0.166569</td>\n",
       "      <td>0.104142</td>\n",
       "      <td>0.250000</td>\n",
       "      <td>0.323935</td>\n",
       "      <td>0.676065</td>\n",
       "      <td>0.393933</td>\n",
       "      <td>0.606067</td>\n",
       "      <td>0.249708</td>\n",
       "      <td>0.166861</td>\n",
       "      <td>0.583431</td>\n",
       "    </tr>\n",
       "    <tr>\n",
       "      <th>12647</th>\n",
       "      <td>rod</td>\n",
       "      <td>0</td>\n",
       "      <td>10042</td>\n",
       "      <td>38901</td>\n",
       "      <td>Peromyscus maniculatus</td>\n",
       "      <td>0.197946</td>\n",
       "      <td>0.802054</td>\n",
       "      <td>0.006198</td>\n",
       "      <td>0.023802</td>\n",
       "      <td>0.064545</td>\n",
       "      <td>...</td>\n",
       "      <td>0.092409</td>\n",
       "      <td>0.089409</td>\n",
       "      <td>0.254425</td>\n",
       "      <td>0.282243</td>\n",
       "      <td>0.717757</td>\n",
       "      <td>0.302480</td>\n",
       "      <td>0.697520</td>\n",
       "      <td>0.725705</td>\n",
       "      <td>0.020376</td>\n",
       "      <td>0.253918</td>\n",
       "    </tr>\n",
       "    <tr>\n",
       "      <th>12649</th>\n",
       "      <td>rod</td>\n",
       "      <td>0</td>\n",
       "      <td>10044</td>\n",
       "      <td>5133</td>\n",
       "      <td>Phodopus sungorus</td>\n",
       "      <td>0.314602</td>\n",
       "      <td>0.685398</td>\n",
       "      <td>0.031602</td>\n",
       "      <td>0.103177</td>\n",
       "      <td>0.118124</td>\n",
       "      <td>...</td>\n",
       "      <td>0.195644</td>\n",
       "      <td>0.202841</td>\n",
       "      <td>0.199242</td>\n",
       "      <td>0.356826</td>\n",
       "      <td>0.643174</td>\n",
       "      <td>0.286546</td>\n",
       "      <td>0.713454</td>\n",
       "      <td>0.334286</td>\n",
       "      <td>0.054286</td>\n",
       "      <td>0.611429</td>\n",
       "    </tr>\n",
       "    <tr>\n",
       "      <th>12650</th>\n",
       "      <td>rod</td>\n",
       "      <td>0</td>\n",
       "      <td>10047</td>\n",
       "      <td>24224</td>\n",
       "      <td>Meriones unguiculatus</td>\n",
       "      <td>0.379772</td>\n",
       "      <td>0.620228</td>\n",
       "      <td>0.046649</td>\n",
       "      <td>0.117636</td>\n",
       "      <td>0.121209</td>\n",
       "      <td>...</td>\n",
       "      <td>0.152003</td>\n",
       "      <td>0.257701</td>\n",
       "      <td>0.204550</td>\n",
       "      <td>0.400304</td>\n",
       "      <td>0.599696</td>\n",
       "      <td>0.400716</td>\n",
       "      <td>0.599284</td>\n",
       "      <td>0.370242</td>\n",
       "      <td>0.287197</td>\n",
       "      <td>0.342561</td>\n",
       "    </tr>\n",
       "  </tbody>\n",
       "</table>\n",
       "<p>5 rows × 69 columns</p>\n",
       "</div>"
      ],
      "text/plain": [
       "      Kingdom  DNAtype  SpeciesID  Ncodons             SpeciesName       UUU  \\\n",
       "12645     rod        0      10036   141900    Mesocricetus auratus  0.410118   \n",
       "12646     rod        0      10041     1400     Peromyscus leucopus  0.328318   \n",
       "12647     rod        0      10042    38901  Peromyscus maniculatus  0.197946   \n",
       "12649     rod        0      10044     5133       Phodopus sungorus  0.314602   \n",
       "12650     rod        0      10047    24224   Meriones unguiculatus  0.379772   \n",
       "\n",
       "            UUC       UUA       UUG       CUU  ...       CGG       AGA  \\\n",
       "12645  0.589882  0.054051  0.131781  0.125987  ...  0.186206  0.208246   \n",
       "12646  0.671682  0.027614  0.116027  0.044168  ...  0.166569  0.104142   \n",
       "12647  0.802054  0.006198  0.023802  0.064545  ...  0.092409  0.089409   \n",
       "12649  0.685398  0.031602  0.103177  0.118124  ...  0.195644  0.202841   \n",
       "12650  0.620228  0.046649  0.117636  0.121209  ...  0.152003  0.257701   \n",
       "\n",
       "            AGG       GAU       GAC       GAA       GAG       UAA       UAG  \\\n",
       "12645  0.211476  0.408836  0.591164  0.389301  0.610699  0.257812  0.257812   \n",
       "12646  0.250000  0.323935  0.676065  0.393933  0.606067  0.249708  0.166861   \n",
       "12647  0.254425  0.282243  0.717757  0.302480  0.697520  0.725705  0.020376   \n",
       "12649  0.199242  0.356826  0.643174  0.286546  0.713454  0.334286  0.054286   \n",
       "12650  0.204550  0.400304  0.599696  0.400716  0.599284  0.370242  0.287197   \n",
       "\n",
       "            UGA  \n",
       "12645  0.484375  \n",
       "12646  0.583431  \n",
       "12647  0.253918  \n",
       "12649  0.611429  \n",
       "12650  0.342561  \n",
       "\n",
       "[5 rows x 69 columns]"
      ]
     },
     "execution_count": 9,
     "metadata": {},
     "output_type": "execute_result"
    }
   ],
   "source": [
    "#print rodents to make sure it updated \n",
    "normalize_codom_bias(rodents)\n",
    "rodents"
   ]
  },
  {
   "cell_type": "markdown",
   "id": "31b8ab10-1c7d-4600-a11e-99d93db38560",
   "metadata": {},
   "source": [
    "Once the data was cleaned and standardized by amino acid, a distance function was created to determine the distance between two species. It was decided to use a sum of squares. The squared difference between each codon was added together and the total difference returned to determine how different codon bias between species is."
   ]
  },
  {
   "cell_type": "code",
   "execution_count": 10,
   "id": "11d77279-d24a-4bea-9645-87dced264010",
   "metadata": {},
   "outputs": [],
   "source": [
    "def species_diff(df, species1, species2):\n",
    "    '''Finds the difference between the codon bias of two species'''\n",
    "    \n",
    "    # step a counting value to 0\n",
    "    diff = 0\n",
    "    \n",
    "    animal1 = df[df['SpeciesName'] == species1]\n",
    "    animal2 = df[df['SpeciesName'] == species2]\n",
    "    \n",
    "    #loop through all amino acids\n",
    "    for aa in aas:\n",
    "        #loop through all codons\n",
    "        for codon in aas[aa]:\n",
    "            #add the squared difference between the species codon bias squared\n",
    "            diff += (animal1[codon].values[0] - animal2[codon].values[0])**2\n",
    "    \n",
    "    #return the total difference between two speices\n",
    "    return diff         "
   ]
  },
  {
   "cell_type": "markdown",
   "id": "f2594c26-5741-47bb-809d-b8d74b0c8089",
   "metadata": {
    "tags": []
   },
   "source": [
    "# Part 2 - UPGMA"
   ]
  },
  {
   "cell_type": "markdown",
   "id": "3c8ffc50-340b-430c-b62f-a47d03b98f41",
   "metadata": {},
   "source": [
    "Now, the UPGMA algorithm must be implemented. We started with the algorithm developed in class. However, this version did not take into account edge weights when making the final tree, which we wanted to include. So, a simple Node class was created which could store all of this data. The left and right variables store tuples that point to the child node and the distance between the two nodes."
   ]
  },
  {
   "cell_type": "code",
   "execution_count": 11,
   "id": "a480c431-1f3a-40b8-8df8-e21a029f6e20",
   "metadata": {},
   "outputs": [],
   "source": [
    "class Node:\n",
    "    def __init__(self):\n",
    "        self.left = None\n",
    "        self.right = None\n",
    "        self.val = None"
   ]
  },
  {
   "cell_type": "markdown",
   "id": "7bfb595b",
   "metadata": {},
   "source": [
    "To test that the edge weights worked, the example from class was used. This uses sequences instead of codon bias, so we must first define a difference function for sequences. This function assumes that the sequences are the same length which is a safe assumption since this is just being used to test phylogenetic tree formation and not generalized to other sequences"
   ]
  },
  {
   "cell_type": "code",
   "execution_count": 12,
   "id": "be81063c-773d-41ca-9a5a-330d146ea277",
   "metadata": {},
   "outputs": [],
   "source": [
    "def differences(seq1, seq2):\n",
    "    '''Counts the number of pairwise differences between\n",
    "    two sequences'''\n",
    "    \n",
    "    #set count variable to zero\n",
    "    count = 0\n",
    "    \n",
    "    #loop through the first sequence\n",
    "    for i in range(len(seq1)):\n",
    "        \n",
    "        #if the amino acids don't match, increase the count variable by one\n",
    "        if seq1[i] != seq2[i]:\n",
    "            count += 1\n",
    "\n",
    "    #once the entire sequence has been checked, return the count variable        \n",
    "    return count"
   ]
  },
  {
   "cell_type": "markdown",
   "id": "08cb612b",
   "metadata": {},
   "source": [
    "Next, all of the hemoglobin sequences must be defined. This information was taken from the notebook used in class"
   ]
  },
  {
   "cell_type": "code",
   "execution_count": 13,
   "id": "bea07c81-79c4-4e66-8f13-2481a8f55a4a",
   "metadata": {},
   "outputs": [],
   "source": [
    "human =   \"MVLSPADKTNVKAAWGKVGAHAGEYGAEALERMFLSFPTTKTYFPHF.DLSHGSAQVKGHGKKVADALTNAVAHVDDMPNALSALSDLHAHKLRVDPVNFKLLSHCLLVTLAAHLPAEFTPAVHASLDKFLASVSTVLTSKYR\"\n",
    "chimp =   \"MVLSPADKTNVKAAWGKVGAHAGEYGAEALERMFLSFPTTKTYFPHF.DLSHGSAQVKGHGKKVADALTNAVAHVDDMPNALSALSDLHAHKLRVDPVNFKLLSHCLLVTLAAHLPAEFTPAVHASLDKFLASVSTVLTSKYR\"\n",
    "gorilla = \".VLSPADKTNVKAAWGKVGAHAGDYGAEALERMFLSFPTTKTYFPHF.DLSHGSAQVKGHGKKVADALTNAVAHVDDMPNALSALSDLHAHKLRVDPVNFKLLSHCLLVTLAAHLPAEFTPAVHASLDKFLASVSTVLTSKYR\"\n",
    "cow =     \"MVLSAADKGNVKAAWGKVGGHAAEYGAEALERMFLSFPTTKTYFPHF.DLSHGSAQVKGHGAKVAAALTKAVEHLDDLPGALSELSDLHAHKLRVDPVNFKLLSHSLLVTLASHLPSDFTPAVHASLDKFLANVSTVLTSKYR\"\n",
    "horse =   \"MVLSAADKTNVKAAWSKVGGHAGEYGAEALERMFLGFPTTKTYFPHF.DLSHGSAQVKAHGKKVGDALTLAVGHLDDLPGALSNLSDLHAHKLRVDPVNFKLLSHCLLSTLAVHLPNDFTPAVHASLDKFLSSVSTVLTSKYR\"  \n",
    "donkey =  \"MVLSAADKTNVKAAWSKVGGNAGEFGAEALERMFLGFPTTKTYFPHF.DLSHGSAQVKAHGKKVGDALTLAVGHLDDLPGALSNLSDLHAHKLRVDPVNFKLLSHCLLSTLAVHLPNDFTPAVHASLDKFLSTVSTVLTSKYR\" \n",
    "rabbit =  \".VLSPADKTNIKTAWEKIGSHGGEYGAEAVERMFLGFPTTKTYFPHF.DFTHGSZQIKAHGKKVSEALTKAVGHLDDLPGALSTLSDLHAHKLRVDPVNFKLLSHCLLVTLANHHPSEFTPAVHASLDKFLANVSTVLTSKYR\"\n",
    "carp =    \"MSLSDKDKAAVKGLWAKISPKADDIGAEALGRMLTVYPQTKTYFAHWADLSPGSGPVKKHGKVIMGAVGDAVSKIDDLVGGLAALSELHAFKLRVDPANFKILAHNVIVVIGMLYPGDFPPEVHMSVDKFFQNLALALSEKYR\""
   ]
  },
  {
   "cell_type": "markdown",
   "id": "41592359",
   "metadata": {},
   "source": [
    "A list of all of the hemoglobin sequences and a list of all of the nodes must be created so they can be used later on to find differences and to create the phenogenetic tree"
   ]
  },
  {
   "cell_type": "code",
   "execution_count": 14,
   "id": "4014e115-a6bc-4cbd-8c69-87f0404237ff",
   "metadata": {},
   "outputs": [],
   "source": [
    "#create list of all hemoglobin sequences\n",
    "animals = [carp, cow, donkey, horse, human, gorilla, rabbit]\n",
    "\n",
    "#create list of all animal names and string to be used as nodes\n",
    "nodes = [\"carp\", \"cow\", \"donkey\", \"horse\", \"human\", \"gorilla\", \"rabbit\"]"
   ]
  },
  {
   "cell_type": "markdown",
   "id": "9eeaab33",
   "metadata": {},
   "source": [
    "Then, a dictionary of all of the differences between each animal must be created. To do this, a function was created which took in the lists created above. It takes in the hemoglobin sequences and the list of animal names. Then, it uses the difference function above to determine the difference between each animal pair. Finally, it adds each animal pair to the difference dictionary and returns the dictionary"
   ]
  },
  {
   "cell_type": "code",
   "execution_count": 15,
   "id": "e9ec439f-0f20-4627-a652-9f48f826ba38",
   "metadata": {},
   "outputs": [],
   "source": [
    "def create_diff_dict(animals, nodes):\n",
    "    '''Creates a matrix of differences between the given species.\n",
    "    Stored in a dictionary of dictionary based on the indices of \n",
    "    the provided list.'''\n",
    "    \n",
    "    # Initialize difference matrix\n",
    "    diff_dict = {}\n",
    "    \n",
    "    # Loop over all the animal pairs to find their differences\n",
    "    for i, animal1 in enumerate(nodes):\n",
    "        for j, animal2 in enumerate(nodes):\n",
    "            \n",
    "            # Don't check animals against themselves\n",
    "            if(animal1 == animal2):\n",
    "                continue\n",
    "                \n",
    "            diff = differences(animals[i], animals[j])\n",
    "            \n",
    "            # Update difference matrix with distance calculated\n",
    "            if(not animal1 in diff_dict):\n",
    "                diff_dict[animal1] = {}\n",
    "\n",
    "            if(not animal2 in diff_dict):\n",
    "                diff_dict[animal2] = {}\n",
    "\n",
    "            diff_dict[animal1][animal2] = diff\n",
    "            diff_dict[animal2][animal1] = diff\n",
    "    \n",
    "    # Return difference matrix\n",
    "    return diff_dict"
   ]
  },
  {
   "cell_type": "code",
   "execution_count": 16,
   "id": "1173adb4-a123-453c-9166-253d750de888",
   "metadata": {},
   "outputs": [
    {
     "data": {
      "text/plain": [
       "{'carp': {'cow': 70,\n",
       "  'donkey': 71,\n",
       "  'horse': 71,\n",
       "  'human': 72,\n",
       "  'gorilla': 72,\n",
       "  'rabbit': 76},\n",
       " 'cow': {'carp': 70,\n",
       "  'donkey': 19,\n",
       "  'horse': 17,\n",
       "  'human': 17,\n",
       "  'gorilla': 19,\n",
       "  'rabbit': 26},\n",
       " 'donkey': {'carp': 71,\n",
       "  'cow': 19,\n",
       "  'horse': 3,\n",
       "  'human': 20,\n",
       "  'gorilla': 22,\n",
       "  'rabbit': 26},\n",
       " 'horse': {'carp': 71,\n",
       "  'cow': 17,\n",
       "  'donkey': 3,\n",
       "  'human': 17,\n",
       "  'gorilla': 19,\n",
       "  'rabbit': 24},\n",
       " 'human': {'carp': 72,\n",
       "  'cow': 17,\n",
       "  'donkey': 20,\n",
       "  'horse': 17,\n",
       "  'gorilla': 2,\n",
       "  'rabbit': 26},\n",
       " 'gorilla': {'carp': 72,\n",
       "  'cow': 19,\n",
       "  'donkey': 22,\n",
       "  'horse': 19,\n",
       "  'human': 2,\n",
       "  'rabbit': 26},\n",
       " 'rabbit': {'carp': 76,\n",
       "  'cow': 26,\n",
       "  'donkey': 26,\n",
       "  'horse': 24,\n",
       "  'human': 26,\n",
       "  'gorilla': 26}}"
      ]
     },
     "execution_count": 16,
     "metadata": {},
     "output_type": "execute_result"
    }
   ],
   "source": [
    "create_diff_dict(animals, nodes)"
   ]
  },
  {
   "cell_type": "markdown",
   "id": "beb4c879-fa01-4fdb-8f6d-5c40ad390fc1",
   "metadata": {},
   "source": [
    "Next, we need a function to find the closest two nodes that should be combined via the UPGMA algorithm"
   ]
  },
  {
   "cell_type": "code",
   "execution_count": 17,
   "id": "bc391d05-5371-4af5-9962-068f956a97c8",
   "metadata": {},
   "outputs": [],
   "source": [
    "def pair_group(diff_dict):\n",
    "    \"\"\" given a matrix of differences, returns the indices of the closest two related organisms\"\"\"\n",
    "    \n",
    "    # Initialize what we're keeping track of\n",
    "    min_val = np.inf\n",
    "    index_1 = 0\n",
    "    index_2 = 0\n",
    "    \n",
    "    # Loop over the distance matrix\n",
    "    for i in diff_dict.keys():\n",
    "        for j in diff_dict[i].keys():\n",
    "            \n",
    "            # Update our variables if we find a new minimum\n",
    "            if diff_dict[i][j] < min_val:\n",
    "                min_val = diff_dict[i][j]\n",
    "                index_1 = i\n",
    "                index_2 = j\n",
    "    \n",
    "    # Return the pair of indices that have the lowest score as a tuple\n",
    "    return (index_1, index_2)"
   ]
  },
  {
   "cell_type": "code",
   "execution_count": 18,
   "id": "589bcc22-d967-4e4d-8138-d641939f5621",
   "metadata": {},
   "outputs": [
    {
     "data": {
      "text/plain": [
       "('human', 'gorilla')"
      ]
     },
     "execution_count": 18,
     "metadata": {},
     "output_type": "execute_result"
    }
   ],
   "source": [
    "pair_group(create_diff_dict(animals, nodes))"
   ]
  },
  {
   "cell_type": "markdown",
   "id": "2e89e52f-922c-4653-a262-2c4e9cb2a71a",
   "metadata": {},
   "source": [
    "Since UPGMA looks at weighted averages, we need to figure out what the weight is of each node being combined. This function recursively loops over a tuple to count the total number of nodes stored in it."
   ]
  },
  {
   "cell_type": "code",
   "execution_count": 19,
   "id": "2d2e2fb2-983f-4c30-b68d-c84c832f2c13",
   "metadata": {
    "tags": []
   },
   "outputs": [],
   "source": [
    "def calculate_weight(tup):\n",
    "    '''Determine number of items in a nested tuple'''\n",
    "    \n",
    "    # Base case\n",
    "    if(type(tup) != tuple):\n",
    "        return 1\n",
    "    \n",
    "    num_values = 0\n",
    "    \n",
    "    # Loop over the tuple and unpack it based on its contents\n",
    "    for i in tup:\n",
    "        \n",
    "        # Recursively determine weight if the item is another tuple\n",
    "        if type(i) == tuple:\n",
    "            num_values += calculate_weight(i)\n",
    "            \n",
    "        # Add 1 if the item is not a tuple\n",
    "        else:\n",
    "            num_values += 1\n",
    "    \n",
    "    # Return weight of tuple\n",
    "    return num_values"
   ]
  },
  {
   "cell_type": "code",
   "execution_count": 20,
   "id": "d3821955-ca1a-4085-9e0b-e0209ea0627c",
   "metadata": {},
   "outputs": [
    {
     "data": {
      "text/plain": [
       "6"
      ]
     },
     "execution_count": 20,
     "metadata": {},
     "output_type": "execute_result"
    }
   ],
   "source": [
    "calculate_weight(((5, (3, 2)), ((1, 6), 5)))"
   ]
  },
  {
   "cell_type": "markdown",
   "id": "46aa0c3e-047c-44eb-864d-ff3800753fb8",
   "metadata": {},
   "source": [
    "UPGMA determines edge weights to the farthest node in a node group but we just want to update the edge weight between the new node and the node group as a whole. So, we need to figure out what the distance of the node group is in order to do this. Since all of the nodes will end up the same distance away from the root node, we only need to check one path to find the furthest node"
   ]
  },
  {
   "cell_type": "code",
   "execution_count": 21,
   "id": "cc9773e5-74db-4257-9649-71a308a1ab43",
   "metadata": {},
   "outputs": [],
   "source": [
    "def get_distance_to_farthest_node(root):\n",
    "    '''Gets the linear distance from a node to its furthest child'''\n",
    "    \n",
    "    # Base case\n",
    "    if(root.right == None):\n",
    "        return 0\n",
    "    \n",
    "    # Return the distance between this node and its child\n",
    "    return root.right[1] + get_distance_to_farthest_node(root.right[0])"
   ]
  },
  {
   "cell_type": "code",
   "execution_count": 22,
   "id": "50fc26dc-17f4-4627-b421-ab809fbec384",
   "metadata": {},
   "outputs": [
    {
     "data": {
      "text/plain": [
       "22"
      ]
     },
     "execution_count": 22,
     "metadata": {},
     "output_type": "execute_result"
    }
   ],
   "source": [
    "root = Node()\n",
    "root.right = (Node(), 5)\n",
    "root.right[0].right = (Node(), 7)\n",
    "root.right[0].right[0].right = (Node(), 10)\n",
    "\n",
    "get_distance_to_farthest_node(root)"
   ]
  },
  {
   "cell_type": "markdown",
   "id": "c9bb619d-ffe0-48ff-a125-ddb6bd3b30f3",
   "metadata": {},
   "source": [
    "Now we're ready to apply our UPGMA algorithm to a matrix of differences. We first start by creating a dictionary of the base nodes so that our tree is a binary tree at the end. Then, we proceed by combining nodes into pair groups until there is only one node left which is the root of our phylogenetic tree."
   ]
  },
  {
   "cell_type": "code",
   "execution_count": 23,
   "id": "f5f39093-4af1-4a00-b265-2b998eb26b88",
   "metadata": {},
   "outputs": [],
   "source": [
    "def generate_phylogenetic_tree(diff_dict):\n",
    "    '''Creates a phylogentic tree from a list of sequences'''\n",
    "    \n",
    "    # Create the dictionary of nodes for the phylogentic tree creation\n",
    "    node_dict = {}\n",
    "\n",
    "    for species in diff_dict:\n",
    "        node = Node()\n",
    "        node.val = species\n",
    "        node_dict[species] = node\n",
    "\n",
    "    # Apply UPGMA until all nodes have been combined\n",
    "    while(len(diff_dict.keys()) > 1):\n",
    "        \n",
    "        # Get the two most related nodes\n",
    "        (animal_1, animal_2) = pair_group(diff_dict)\n",
    "        \n",
    "        # Add a new row for the new node\n",
    "        new_group = (animal_1, animal_2)\n",
    "        diff_dict[new_group] = {}\n",
    "        \n",
    "        # Get the distance between these two nodes\n",
    "        distance = diff_dict[animal_1][animal_2]\n",
    "        \n",
    "        # Create a new Node representing the new group being formed. Include the edge weight between the nodes\n",
    "        node = Node()\n",
    "        node.val = new_group\n",
    "        node.left = (node_dict[animal_1], distance / 2 - get_distance_to_farthest_node(node_dict[animal_1]))\n",
    "        node.right = (node_dict[animal_2], distance / 2 - get_distance_to_farthest_node(node_dict[animal_2]))\n",
    "        \n",
    "        # Remove the old nodes and add the new ones to the node dictionary\n",
    "        node_dict.pop(animal_1)\n",
    "        node_dict.pop(animal_2)\n",
    "        node_dict[new_group] = node\n",
    "        \n",
    "        # Delete node pairs from the distance matrix\n",
    "        diff_dict[animal_1].pop(animal_2)\n",
    "        diff_dict[animal_2].pop(animal_1)\n",
    "\n",
    "        # Calculate the weights for the arithmetic mean\n",
    "        weight1 = calculate_weight(animal_1)\n",
    "        weight2 = calculate_weight(animal_2)\n",
    "\n",
    "        # Populate new node's row\n",
    "        for i in diff_dict[animal_1].keys():\n",
    "            diff_dict[new_group][i] = (weight1 * diff_dict[animal_1][i] + weight2 * diff_dict[animal_2][i]) / (weight1 + weight2)\n",
    "\n",
    "        # Delete old node's rows\n",
    "        diff_dict.pop(animal_1)\n",
    "        diff_dict.pop(animal_2)\n",
    "\n",
    "        # Update remaining nodes' distances to the newly added node and delete the remaining\n",
    "        # references to the old nodes\n",
    "        for i in diff_dict.keys():\n",
    "            if(i != new_group):\n",
    "                diff_dict[i][new_group] = (weight1 * diff_dict[i][animal_1] + weight2 * diff_dict[i][animal_2]) / (weight1 + weight2)\n",
    "                \n",
    "                diff_dict[i].pop(animal_1)\n",
    "                diff_dict[i].pop(animal_2)\n",
    "    \n",
    "    # The last created node is the completed tree\n",
    "    return node"
   ]
  },
  {
   "cell_type": "code",
   "execution_count": 24,
   "id": "a4418c0e-87ba-47a5-979b-ff1fea1f537c",
   "metadata": {},
   "outputs": [
    {
     "data": {
      "text/plain": [
       "('carp', ('rabbit', (('donkey', 'horse'), ('cow', ('human', 'gorilla')))))"
      ]
     },
     "execution_count": 24,
     "metadata": {},
     "output_type": "execute_result"
    }
   ],
   "source": [
    "# Create matrix of differences\n",
    "diff_dict = create_diff_dict(animals, nodes)\n",
    "\n",
    "# Create Node based tree\n",
    "index_tree = generate_phylogenetic_tree(diff_dict)\n",
    "index_tree.val"
   ]
  },
  {
   "cell_type": "markdown",
   "id": "5a57322b-b19b-4eee-9280-946b66d66dd5",
   "metadata": {},
   "source": [
    "Looks like it all still works, so now let's put this data into a visualizable format. We will be using BioPython's Phylo module to display the tree which takes in a PhyloXML file, so we need to put the data into that format using the following two functions."
   ]
  },
  {
   "cell_type": "code",
   "execution_count": 25,
   "id": "2ebde38f-25c8-4b8c-ad60-b5d430968ee6",
   "metadata": {},
   "outputs": [],
   "source": [
    "def write_tree_xml(root, filename):\n",
    "    '''Writes a weighted binary tree to a PhyloXML file'''\n",
    "    \n",
    "    # Open the file\n",
    "    with open(filename + '.xml', 'w') as f:\n",
    "        \n",
    "        # Write the necessary header information\n",
    "        f.write('<?xml version=\"1.0\" encoding=\"UTF-8\"?>\\n')\n",
    "        f.write('<phyloxml xmlns:xsi=\"http://www.w3.org/2001/XMLSchema-instance\" xsi:schemaLocation=\"http://www.phyloxml.org http://www.phyloxml.org/1.10/phyloxml.xsd\" xmlns=\"http://www.phyloxml.org\">\\n')\n",
    "        f.write('<phylogeny rooted=\"true\">\\n')\n",
    "        f.write('<clade>')\n",
    "        \n",
    "        # Recursively write each node to the file\n",
    "        write_tree_recursive(root, f)\n",
    "        \n",
    "        # Close off the file\n",
    "        f.write('</clade>\\n')\n",
    "        f.write('</phylogeny>\\n')\n",
    "        f.write('</phyloxml>\\n')"
   ]
  },
  {
   "cell_type": "code",
   "execution_count": 26,
   "id": "3f1c265c-4f87-4123-8cb1-7bb173f750fa",
   "metadata": {},
   "outputs": [],
   "source": [
    "def write_tree_recursive(root, f):\n",
    "    ''' Recursively adds clades to the file'''\n",
    "    \n",
    "    # Base case\n",
    "    if(root.right == None):\n",
    "        f.write('<name>' + root.val + '</name>\\n')\n",
    "        return\n",
    "    \n",
    "    # Add a new clade for the left child\n",
    "    f.write('<clade branch_length=\"' + str(root.left[1]) + '\">\\n')\n",
    "    write_tree_recursive(root.left[0], f)\n",
    "    f.write('</clade>\\n')\n",
    "    \n",
    "    # Add a new clade for the right child\n",
    "    f.write('<clade branch_length=\"' + str(root.right[1]) + '\">\\n')\n",
    "    write_tree_recursive(root.right[0], f)\n",
    "    f.write('</clade>\\n')"
   ]
  },
  {
   "cell_type": "code",
   "execution_count": 27,
   "id": "a8ca48a2-f205-4aed-b78c-9c7656b21a6b",
   "metadata": {},
   "outputs": [
    {
     "data": {
      "image/png": "[encoded data removed]",
      "text/plain": [
       "<Figure size 432x288 with 1 Axes>"
      ]
     },
     "metadata": {
      "needs_background": "light"
     },
     "output_type": "display_data"
    }
   ],
   "source": [
    "# Generate PhyloXML file\n",
    "write_tree_xml(index_tree, 'test_tree')\n",
    "\n",
    "# Load and visualize phylogenetic tree\n",
    "tree = Phylo.read('test_tree.xml', 'phyloxml')\n",
    "tree.ladderize()\n",
    "Phylo.draw(tree)"
   ]
  },
  {
   "cell_type": "markdown",
   "id": "e51efda2-e01b-4f2e-9e83-c58db7efbc68",
   "metadata": {},
   "source": [
    "We got the same tree as before, so it seems like its working. We see that gorillas and humans are very closely related, which makes sense. While carp is very distantly related to any of the other species so the edge weights also seem to be working. Next, we need to apply this algorithm to our parsed codon biases."
   ]
  },
  {
   "cell_type": "markdown",
   "id": "5caca769-f6ba-443d-a638-86d673ee3f84",
   "metadata": {
    "tags": []
   },
   "source": [
    "# Part 3 - Creating a Tree of Rodents"
   ]
  },
  {
   "cell_type": "markdown",
   "id": "54c65914-e1c9-4258-b2d5-004faf853168",
   "metadata": {},
   "source": [
    "Now that we have the UPGMA algorithm working, we can now apply it to our parsed rodent data. To do that, we first need a function that can create our differences matrix from a supplied dataframe."
   ]
  },
  {
   "cell_type": "code",
   "execution_count": 28,
   "id": "775be81a-febd-41c1-902f-c71b2334fb40",
   "metadata": {},
   "outputs": [],
   "source": [
    "def create_diff_codon_dict(df):\n",
    "    '''Creates a matrix of differences between the species in a \n",
    "    dataframe. Stored in a dictionary of dictionaries based on\n",
    "    the names of the provided species.'''\n",
    "    \n",
    "    # Initialize difference matrix\n",
    "    diff_dict = {}\n",
    "    \n",
    "    # Loop over all the animal pairs to find their differences\n",
    "    for species1 in df['SpeciesName'].unique():\n",
    "        for species2 in df['SpeciesName'].unique():\n",
    "            \n",
    "            # Ignore if the two species are the same\n",
    "            if(species1 == species2):\n",
    "                continue\n",
    "\n",
    "            # Calculate the differences between the two species\n",
    "            diff = species_diff(df, species1, species2)\n",
    "\n",
    "            # Update the differences matrix\n",
    "            if(not species1 in diff_dict):\n",
    "                diff_dict[species1] = {}\n",
    "\n",
    "            if(not species2 in diff_dict):\n",
    "                diff_dict[species2] = {}\n",
    "\n",
    "            diff_dict[species1][species2] = diff\n",
    "            diff_dict[species2][species1] = diff\n",
    "        \n",
    "    # Return the differences matrix\n",
    "    return diff_dict"
   ]
  },
  {
   "cell_type": "code",
   "execution_count": 29,
   "id": "aa6500e4-0fbe-4335-9c2b-0a9e0a89dc56",
   "metadata": {},
   "outputs": [
    {
     "data": {
      "text/plain": [
       "{'Mesocricetus auratus': {'Peromyscus leucopus': 0.3698200718995884,\n",
       "  'Peromyscus maniculatus': 1.4912752525913675,\n",
       "  'Phodopus sungorus': 0.2400149379280606,\n",
       "  'Meriones unguiculatus': 0.06934837109831807},\n",
       " 'Peromyscus leucopus': {'Mesocricetus auratus': 0.3698200718995884,\n",
       "  'Peromyscus maniculatus': 0.9703578458774655,\n",
       "  'Phodopus sungorus': 0.23958614945385504,\n",
       "  'Meriones unguiculatus': 0.4298882360781917},\n",
       " 'Peromyscus maniculatus': {'Mesocricetus auratus': 1.4912752525913675,\n",
       "  'Peromyscus leucopus': 0.9703578458774655,\n",
       "  'Phodopus sungorus': 1.224049008662283,\n",
       "  'Meriones unguiculatus': 1.3523579218952508},\n",
       " 'Phodopus sungorus': {'Mesocricetus auratus': 0.2400149379280606,\n",
       "  'Peromyscus leucopus': 0.23958614945385504,\n",
       "  'Peromyscus maniculatus': 1.224049008662283,\n",
       "  'Meriones unguiculatus': 0.29665002218862124},\n",
       " 'Meriones unguiculatus': {'Mesocricetus auratus': 0.06934837109831807,\n",
       "  'Peromyscus leucopus': 0.4298882360781917,\n",
       "  'Peromyscus maniculatus': 1.3523579218952508,\n",
       "  'Phodopus sungorus': 0.29665002218862124}}"
      ]
     },
     "execution_count": 29,
     "metadata": {},
     "output_type": "execute_result"
    }
   ],
   "source": [
    "create_diff_codon_dict(rodents)"
   ]
  },
  {
   "cell_type": "code",
   "execution_count": 30,
   "id": "d54bc6bc-a130-46ca-9137-bfc9c18b46be",
   "metadata": {},
   "outputs": [
    {
     "data": {
      "image/png": "[encoded data removed]",
      "text/plain": [
       "<Figure size 432x288 with 1 Axes>"
      ]
     },
     "metadata": {
      "needs_background": "light"
     },
     "output_type": "display_data"
    }
   ],
   "source": [
    "# Create matrix of differences\n",
    "diff_dict = create_diff_codon_dict(rodents)\n",
    "\n",
    "# Create Node based tree\n",
    "index_tree = generate_phylogenetic_tree(diff_dict)\n",
    "\n",
    "# Generate PhyloXML file\n",
    "write_tree_xml(index_tree, 'rodent_tree')\n",
    "\n",
    "# Load and visualize phylogenetic tree\n",
    "tree = Phylo.read('rodent_tree.xml', 'phyloxml')\n",
    "tree.ladderize()\n",
    "Phylo.draw(tree)"
   ]
  },
  {
   "cell_type": "markdown",
   "id": "f9d28043",
   "metadata": {
    "tags": []
   },
   "source": [
    "# Part 4 - Creating Tree of In Class Animals"
   ]
  },
  {
   "cell_type": "markdown",
   "id": "ee9b5735",
   "metadata": {},
   "source": [
    "We've got a tree built with species that are all pretty similar to one another. What happens if we try it with species that are more distantly related? First, a list with the scientific names of each animal in class was created so they could be found in the data frame. Carp was replaced with trout because carp was not in the data frame. It was assumed that the two fish should have a similar relation to the rest of the animals which are all mammals"
   ]
  },
  {
   "cell_type": "code",
   "execution_count": 31,
   "id": "da2f4ea8-6a82-4808-9b99-b5380cd4b9dd",
   "metadata": {},
   "outputs": [],
   "source": [
    "#create list of animal scientific names (carp replaced with trout)\n",
    "animals = ['Homo sapiens', 'Gorilla gorilla', 'Oryctolagus cuniculus', 'Bos taurus', 'Equus asinus','Equus caballus', 'Oncorhynchus mykiss'] "
   ]
  },
  {
   "cell_type": "markdown",
   "id": "09ca1967",
   "metadata": {},
   "source": [
    "Next, a data frame had to be created for all of the in-class animals. First, the list of animals was looped through. If it was the first animal, a new data frame was created. If it was no, the new animal was added to the growing data frame using the pd.concat function which combines two data frames. Finally, the data frame was printed out to make sure it had been created properly. This could then be used in future steps"
   ]
  },
  {
   "cell_type": "code",
   "execution_count": 32,
   "id": "c9d25318-5d11-42c0-a8a3-c2486a8349ca",
   "metadata": {},
   "outputs": [
    {
     "data": {
      "text/html": [
       "<div>\n",
       "<style scoped>\n",
       "    .dataframe tbody tr th:only-of-type {\n",
       "        vertical-align: middle;\n",
       "    }\n",
       "\n",
       "    .dataframe tbody tr th {\n",
       "        vertical-align: top;\n",
       "    }\n",
       "\n",
       "    .dataframe thead th {\n",
       "        text-align: right;\n",
       "    }\n",
       "</style>\n",
       "<table border=\"1\" class=\"dataframe\">\n",
       "  <thead>\n",
       "    <tr style=\"text-align: right;\">\n",
       "      <th></th>\n",
       "      <th>Kingdom</th>\n",
       "      <th>DNAtype</th>\n",
       "      <th>SpeciesID</th>\n",
       "      <th>Ncodons</th>\n",
       "      <th>SpeciesName</th>\n",
       "      <th>UUU</th>\n",
       "      <th>UUC</th>\n",
       "      <th>UUA</th>\n",
       "      <th>UUG</th>\n",
       "      <th>CUU</th>\n",
       "      <th>...</th>\n",
       "      <th>CGG</th>\n",
       "      <th>AGA</th>\n",
       "      <th>AGG</th>\n",
       "      <th>GAU</th>\n",
       "      <th>GAC</th>\n",
       "      <th>GAA</th>\n",
       "      <th>GAG</th>\n",
       "      <th>UAA</th>\n",
       "      <th>UAG</th>\n",
       "      <th>UGA</th>\n",
       "    </tr>\n",
       "  </thead>\n",
       "  <tbody>\n",
       "    <tr>\n",
       "      <th>13026</th>\n",
       "      <td>pri</td>\n",
       "      <td>0</td>\n",
       "      <td>9606</td>\n",
       "      <td>40662582</td>\n",
       "      <td>Homo sapiens</td>\n",
       "      <td>0.01757</td>\n",
       "      <td>0.02028</td>\n",
       "      <td>0.00767</td>\n",
       "      <td>0.01293</td>\n",
       "      <td>0.01319</td>\n",
       "      <td>...</td>\n",
       "      <td>0.01142</td>\n",
       "      <td>0.01217</td>\n",
       "      <td>0.01196</td>\n",
       "      <td>0.02178</td>\n",
       "      <td>0.02510</td>\n",
       "      <td>0.02896</td>\n",
       "      <td>0.03959</td>\n",
       "      <td>0.00099</td>\n",
       "      <td>0.00079</td>\n",
       "      <td>0.00156</td>\n",
       "    </tr>\n",
       "    <tr>\n",
       "      <th>13015</th>\n",
       "      <td>pri</td>\n",
       "      <td>0</td>\n",
       "      <td>9593</td>\n",
       "      <td>99020</td>\n",
       "      <td>Gorilla gorilla</td>\n",
       "      <td>0.01754</td>\n",
       "      <td>0.02389</td>\n",
       "      <td>0.00755</td>\n",
       "      <td>0.01321</td>\n",
       "      <td>0.01325</td>\n",
       "      <td>...</td>\n",
       "      <td>0.00974</td>\n",
       "      <td>0.01495</td>\n",
       "      <td>0.01289</td>\n",
       "      <td>0.01662</td>\n",
       "      <td>0.02218</td>\n",
       "      <td>0.02289</td>\n",
       "      <td>0.03689</td>\n",
       "      <td>0.00086</td>\n",
       "      <td>0.00072</td>\n",
       "      <td>0.00179</td>\n",
       "    </tr>\n",
       "    <tr>\n",
       "      <th>12631</th>\n",
       "      <td>mam</td>\n",
       "      <td>0</td>\n",
       "      <td>9986</td>\n",
       "      <td>529901</td>\n",
       "      <td>Oryctolagus cuniculus</td>\n",
       "      <td>0.01636</td>\n",
       "      <td>0.02844</td>\n",
       "      <td>0.00533</td>\n",
       "      <td>0.01095</td>\n",
       "      <td>0.01006</td>\n",
       "      <td>...</td>\n",
       "      <td>0.01143</td>\n",
       "      <td>0.00919</td>\n",
       "      <td>0.01057</td>\n",
       "      <td>0.01757</td>\n",
       "      <td>0.03049</td>\n",
       "      <td>0.02421</td>\n",
       "      <td>0.04372</td>\n",
       "      <td>0.00059</td>\n",
       "      <td>0.00053</td>\n",
       "      <td>0.00110</td>\n",
       "    </tr>\n",
       "    <tr>\n",
       "      <th>12613</th>\n",
       "      <td>mam</td>\n",
       "      <td>0</td>\n",
       "      <td>9913</td>\n",
       "      <td>5198458</td>\n",
       "      <td>Bos taurus</td>\n",
       "      <td>0.01638</td>\n",
       "      <td>0.02234</td>\n",
       "      <td>0.00634</td>\n",
       "      <td>0.01203</td>\n",
       "      <td>0.01186</td>\n",
       "      <td>...</td>\n",
       "      <td>0.01249</td>\n",
       "      <td>0.01074</td>\n",
       "      <td>0.01136</td>\n",
       "      <td>0.02053</td>\n",
       "      <td>0.02816</td>\n",
       "      <td>0.02692</td>\n",
       "      <td>0.04192</td>\n",
       "      <td>0.00070</td>\n",
       "      <td>0.00063</td>\n",
       "      <td>0.00132</td>\n",
       "    </tr>\n",
       "    <tr>\n",
       "      <th>12567</th>\n",
       "      <td>mam</td>\n",
       "      <td>0</td>\n",
       "      <td>9793</td>\n",
       "      <td>4974</td>\n",
       "      <td>Equus asinus</td>\n",
       "      <td>0.02694</td>\n",
       "      <td>0.03418</td>\n",
       "      <td>0.00462</td>\n",
       "      <td>0.01548</td>\n",
       "      <td>0.01508</td>\n",
       "      <td>...</td>\n",
       "      <td>0.00503</td>\n",
       "      <td>0.01206</td>\n",
       "      <td>0.01508</td>\n",
       "      <td>0.01528</td>\n",
       "      <td>0.02111</td>\n",
       "      <td>0.01749</td>\n",
       "      <td>0.02413</td>\n",
       "      <td>0.00221</td>\n",
       "      <td>0.00080</td>\n",
       "      <td>0.00201</td>\n",
       "    </tr>\n",
       "    <tr>\n",
       "      <th>12569</th>\n",
       "      <td>mam</td>\n",
       "      <td>0</td>\n",
       "      <td>9796</td>\n",
       "      <td>156469</td>\n",
       "      <td>Equus caballus</td>\n",
       "      <td>0.01737</td>\n",
       "      <td>0.02451</td>\n",
       "      <td>0.00569</td>\n",
       "      <td>0.01264</td>\n",
       "      <td>0.01282</td>\n",
       "      <td>...</td>\n",
       "      <td>0.00906</td>\n",
       "      <td>0.01086</td>\n",
       "      <td>0.01107</td>\n",
       "      <td>0.02002</td>\n",
       "      <td>0.02808</td>\n",
       "      <td>0.02502</td>\n",
       "      <td>0.04058</td>\n",
       "      <td>0.00098</td>\n",
       "      <td>0.00051</td>\n",
       "      <td>0.00123</td>\n",
       "    </tr>\n",
       "    <tr>\n",
       "      <th>11692</th>\n",
       "      <td>vrt</td>\n",
       "      <td>0</td>\n",
       "      <td>8022</td>\n",
       "      <td>353342</td>\n",
       "      <td>Oncorhynchus mykiss</td>\n",
       "      <td>0.01411</td>\n",
       "      <td>0.02659</td>\n",
       "      <td>0.00380</td>\n",
       "      <td>0.00977</td>\n",
       "      <td>0.00854</td>\n",
       "      <td>...</td>\n",
       "      <td>0.00589</td>\n",
       "      <td>0.01135</td>\n",
       "      <td>0.01412</td>\n",
       "      <td>0.01750</td>\n",
       "      <td>0.03334</td>\n",
       "      <td>0.01548</td>\n",
       "      <td>0.04519</td>\n",
       "      <td>0.00081</td>\n",
       "      <td>0.00050</td>\n",
       "      <td>0.00134</td>\n",
       "    </tr>\n",
       "  </tbody>\n",
       "</table>\n",
       "<p>7 rows × 69 columns</p>\n",
       "</div>"
      ],
      "text/plain": [
       "      Kingdom  DNAtype  SpeciesID   Ncodons            SpeciesName      UUU  \\\n",
       "13026     pri        0       9606  40662582           Homo sapiens  0.01757   \n",
       "13015     pri        0       9593     99020        Gorilla gorilla  0.01754   \n",
       "12631     mam        0       9986    529901  Oryctolagus cuniculus  0.01636   \n",
       "12613     mam        0       9913   5198458             Bos taurus  0.01638   \n",
       "12567     mam        0       9793      4974           Equus asinus  0.02694   \n",
       "12569     mam        0       9796    156469         Equus caballus  0.01737   \n",
       "11692     vrt        0       8022    353342    Oncorhynchus mykiss  0.01411   \n",
       "\n",
       "           UUC      UUA      UUG      CUU  ...      CGG      AGA      AGG  \\\n",
       "13026  0.02028  0.00767  0.01293  0.01319  ...  0.01142  0.01217  0.01196   \n",
       "13015  0.02389  0.00755  0.01321  0.01325  ...  0.00974  0.01495  0.01289   \n",
       "12631  0.02844  0.00533  0.01095  0.01006  ...  0.01143  0.00919  0.01057   \n",
       "12613  0.02234  0.00634  0.01203  0.01186  ...  0.01249  0.01074  0.01136   \n",
       "12567  0.03418  0.00462  0.01548  0.01508  ...  0.00503  0.01206  0.01508   \n",
       "12569  0.02451  0.00569  0.01264  0.01282  ...  0.00906  0.01086  0.01107   \n",
       "11692  0.02659  0.00380  0.00977  0.00854  ...  0.00589  0.01135  0.01412   \n",
       "\n",
       "           GAU      GAC      GAA      GAG      UAA      UAG      UGA  \n",
       "13026  0.02178  0.02510  0.02896  0.03959  0.00099  0.00079  0.00156  \n",
       "13015  0.01662  0.02218  0.02289  0.03689  0.00086  0.00072  0.00179  \n",
       "12631  0.01757  0.03049  0.02421  0.04372  0.00059  0.00053  0.00110  \n",
       "12613  0.02053  0.02816  0.02692  0.04192  0.00070  0.00063  0.00132  \n",
       "12567  0.01528  0.02111  0.01749  0.02413  0.00221  0.00080  0.00201  \n",
       "12569  0.02002  0.02808  0.02502  0.04058  0.00098  0.00051  0.00123  \n",
       "11692  0.01750  0.03334  0.01548  0.04519  0.00081  0.00050  0.00134  \n",
       "\n",
       "[7 rows x 69 columns]"
      ]
     },
     "execution_count": 32,
     "metadata": {},
     "output_type": "execute_result"
    }
   ],
   "source": [
    "#loop through list of animals\n",
    "for animal in animals:\n",
    "    \n",
    "    #if first animal, create new data frame\n",
    "    if animal == animals[0]:\n",
    "        class_animals = df[df['SpeciesName'] == animal]\n",
    "        \n",
    "    #otherwise, add the new animal to the growing data frame\n",
    "    else: \n",
    "        class_animals = pd.concat([class_animals, df[df['SpeciesName'] == animal]])\n",
    "\n",
    "#print data frame to make sure it is all present\n",
    "class_animals"
   ]
  },
  {
   "cell_type": "markdown",
   "id": "2a933325",
   "metadata": {},
   "source": [
    "The codon bias was standardized by amino acid. This was done in the same fashion as previously to create a data frame with codon bias for each amino acid"
   ]
  },
  {
   "cell_type": "code",
   "execution_count": 33,
   "id": "d99b8783-cf1a-42ab-9adb-d15d4e7349f6",
   "metadata": {},
   "outputs": [
    {
     "data": {
      "text/html": [
       "<div>\n",
       "<style scoped>\n",
       "    .dataframe tbody tr th:only-of-type {\n",
       "        vertical-align: middle;\n",
       "    }\n",
       "\n",
       "    .dataframe tbody tr th {\n",
       "        vertical-align: top;\n",
       "    }\n",
       "\n",
       "    .dataframe thead th {\n",
       "        text-align: right;\n",
       "    }\n",
       "</style>\n",
       "<table border=\"1\" class=\"dataframe\">\n",
       "  <thead>\n",
       "    <tr style=\"text-align: right;\">\n",
       "      <th></th>\n",
       "      <th>Kingdom</th>\n",
       "      <th>DNAtype</th>\n",
       "      <th>SpeciesID</th>\n",
       "      <th>Ncodons</th>\n",
       "      <th>SpeciesName</th>\n",
       "      <th>UUU</th>\n",
       "      <th>UUC</th>\n",
       "      <th>UUA</th>\n",
       "      <th>UUG</th>\n",
       "      <th>CUU</th>\n",
       "      <th>...</th>\n",
       "      <th>CGG</th>\n",
       "      <th>AGA</th>\n",
       "      <th>AGG</th>\n",
       "      <th>GAU</th>\n",
       "      <th>GAC</th>\n",
       "      <th>GAA</th>\n",
       "      <th>GAG</th>\n",
       "      <th>UAA</th>\n",
       "      <th>UAG</th>\n",
       "      <th>UGA</th>\n",
       "    </tr>\n",
       "  </thead>\n",
       "  <tbody>\n",
       "    <tr>\n",
       "      <th>13026</th>\n",
       "      <td>pri</td>\n",
       "      <td>0</td>\n",
       "      <td>9606</td>\n",
       "      <td>40662582</td>\n",
       "      <td>Homo sapiens</td>\n",
       "      <td>0.464201</td>\n",
       "      <td>0.535799</td>\n",
       "      <td>0.076570</td>\n",
       "      <td>0.129081</td>\n",
       "      <td>0.131676</td>\n",
       "      <td>...</td>\n",
       "      <td>0.201482</td>\n",
       "      <td>0.214714</td>\n",
       "      <td>0.211009</td>\n",
       "      <td>0.464590</td>\n",
       "      <td>0.535410</td>\n",
       "      <td>0.422465</td>\n",
       "      <td>0.577535</td>\n",
       "      <td>0.296407</td>\n",
       "      <td>0.236527</td>\n",
       "      <td>0.467066</td>\n",
       "    </tr>\n",
       "    <tr>\n",
       "      <th>13015</th>\n",
       "      <td>pri</td>\n",
       "      <td>0</td>\n",
       "      <td>9593</td>\n",
       "      <td>99020</td>\n",
       "      <td>Gorilla gorilla</td>\n",
       "      <td>0.423365</td>\n",
       "      <td>0.576635</td>\n",
       "      <td>0.070337</td>\n",
       "      <td>0.123067</td>\n",
       "      <td>0.123440</td>\n",
       "      <td>...</td>\n",
       "      <td>0.165113</td>\n",
       "      <td>0.253433</td>\n",
       "      <td>0.218512</td>\n",
       "      <td>0.428351</td>\n",
       "      <td>0.571649</td>\n",
       "      <td>0.382904</td>\n",
       "      <td>0.617096</td>\n",
       "      <td>0.255193</td>\n",
       "      <td>0.213650</td>\n",
       "      <td>0.531157</td>\n",
       "    </tr>\n",
       "    <tr>\n",
       "      <th>12631</th>\n",
       "      <td>mam</td>\n",
       "      <td>0</td>\n",
       "      <td>9986</td>\n",
       "      <td>529901</td>\n",
       "      <td>Oryctolagus cuniculus</td>\n",
       "      <td>0.365179</td>\n",
       "      <td>0.634821</td>\n",
       "      <td>0.051393</td>\n",
       "      <td>0.105583</td>\n",
       "      <td>0.097001</td>\n",
       "      <td>...</td>\n",
       "      <td>0.215905</td>\n",
       "      <td>0.173593</td>\n",
       "      <td>0.199660</td>\n",
       "      <td>0.365585</td>\n",
       "      <td>0.634415</td>\n",
       "      <td>0.356396</td>\n",
       "      <td>0.643604</td>\n",
       "      <td>0.265766</td>\n",
       "      <td>0.238739</td>\n",
       "      <td>0.495495</td>\n",
       "    </tr>\n",
       "    <tr>\n",
       "      <th>12613</th>\n",
       "      <td>mam</td>\n",
       "      <td>0</td>\n",
       "      <td>9913</td>\n",
       "      <td>5198458</td>\n",
       "      <td>Bos taurus</td>\n",
       "      <td>0.423037</td>\n",
       "      <td>0.576963</td>\n",
       "      <td>0.062797</td>\n",
       "      <td>0.119156</td>\n",
       "      <td>0.117472</td>\n",
       "      <td>...</td>\n",
       "      <td>0.220243</td>\n",
       "      <td>0.189385</td>\n",
       "      <td>0.200317</td>\n",
       "      <td>0.421647</td>\n",
       "      <td>0.578353</td>\n",
       "      <td>0.391052</td>\n",
       "      <td>0.608948</td>\n",
       "      <td>0.264151</td>\n",
       "      <td>0.237736</td>\n",
       "      <td>0.498113</td>\n",
       "    </tr>\n",
       "    <tr>\n",
       "      <th>12567</th>\n",
       "      <td>mam</td>\n",
       "      <td>0</td>\n",
       "      <td>9793</td>\n",
       "      <td>4974</td>\n",
       "      <td>Equus asinus</td>\n",
       "      <td>0.440772</td>\n",
       "      <td>0.559228</td>\n",
       "      <td>0.040673</td>\n",
       "      <td>0.136280</td>\n",
       "      <td>0.132758</td>\n",
       "      <td>...</td>\n",
       "      <td>0.103392</td>\n",
       "      <td>0.247893</td>\n",
       "      <td>0.309969</td>\n",
       "      <td>0.419896</td>\n",
       "      <td>0.580104</td>\n",
       "      <td>0.420231</td>\n",
       "      <td>0.579769</td>\n",
       "      <td>0.440239</td>\n",
       "      <td>0.159363</td>\n",
       "      <td>0.400398</td>\n",
       "    </tr>\n",
       "    <tr>\n",
       "      <th>12569</th>\n",
       "      <td>mam</td>\n",
       "      <td>0</td>\n",
       "      <td>9796</td>\n",
       "      <td>156469</td>\n",
       "      <td>Equus caballus</td>\n",
       "      <td>0.414756</td>\n",
       "      <td>0.585244</td>\n",
       "      <td>0.054299</td>\n",
       "      <td>0.120622</td>\n",
       "      <td>0.122340</td>\n",
       "      <td>...</td>\n",
       "      <td>0.179619</td>\n",
       "      <td>0.215305</td>\n",
       "      <td>0.219469</td>\n",
       "      <td>0.416216</td>\n",
       "      <td>0.583784</td>\n",
       "      <td>0.381402</td>\n",
       "      <td>0.618598</td>\n",
       "      <td>0.360294</td>\n",
       "      <td>0.187500</td>\n",
       "      <td>0.452206</td>\n",
       "    </tr>\n",
       "    <tr>\n",
       "      <th>11692</th>\n",
       "      <td>vrt</td>\n",
       "      <td>0</td>\n",
       "      <td>8022</td>\n",
       "      <td>353342</td>\n",
       "      <td>Oncorhynchus mykiss</td>\n",
       "      <td>0.346683</td>\n",
       "      <td>0.653317</td>\n",
       "      <td>0.040690</td>\n",
       "      <td>0.104615</td>\n",
       "      <td>0.091444</td>\n",
       "      <td>...</td>\n",
       "      <td>0.116334</td>\n",
       "      <td>0.224175</td>\n",
       "      <td>0.278886</td>\n",
       "      <td>0.344217</td>\n",
       "      <td>0.655783</td>\n",
       "      <td>0.255151</td>\n",
       "      <td>0.744849</td>\n",
       "      <td>0.305660</td>\n",
       "      <td>0.188679</td>\n",
       "      <td>0.505660</td>\n",
       "    </tr>\n",
       "  </tbody>\n",
       "</table>\n",
       "<p>7 rows × 69 columns</p>\n",
       "</div>"
      ],
      "text/plain": [
       "      Kingdom  DNAtype  SpeciesID   Ncodons            SpeciesName       UUU  \\\n",
       "13026     pri        0       9606  40662582           Homo sapiens  0.464201   \n",
       "13015     pri        0       9593     99020        Gorilla gorilla  0.423365   \n",
       "12631     mam        0       9986    529901  Oryctolagus cuniculus  0.365179   \n",
       "12613     mam        0       9913   5198458             Bos taurus  0.423037   \n",
       "12567     mam        0       9793      4974           Equus asinus  0.440772   \n",
       "12569     mam        0       9796    156469         Equus caballus  0.414756   \n",
       "11692     vrt        0       8022    353342    Oncorhynchus mykiss  0.346683   \n",
       "\n",
       "            UUC       UUA       UUG       CUU  ...       CGG       AGA  \\\n",
       "13026  0.535799  0.076570  0.129081  0.131676  ...  0.201482  0.214714   \n",
       "13015  0.576635  0.070337  0.123067  0.123440  ...  0.165113  0.253433   \n",
       "12631  0.634821  0.051393  0.105583  0.097001  ...  0.215905  0.173593   \n",
       "12613  0.576963  0.062797  0.119156  0.117472  ...  0.220243  0.189385   \n",
       "12567  0.559228  0.040673  0.136280  0.132758  ...  0.103392  0.247893   \n",
       "12569  0.585244  0.054299  0.120622  0.122340  ...  0.179619  0.215305   \n",
       "11692  0.653317  0.040690  0.104615  0.091444  ...  0.116334  0.224175   \n",
       "\n",
       "            AGG       GAU       GAC       GAA       GAG       UAA       UAG  \\\n",
       "13026  0.211009  0.464590  0.535410  0.422465  0.577535  0.296407  0.236527   \n",
       "13015  0.218512  0.428351  0.571649  0.382904  0.617096  0.255193  0.213650   \n",
       "12631  0.199660  0.365585  0.634415  0.356396  0.643604  0.265766  0.238739   \n",
       "12613  0.200317  0.421647  0.578353  0.391052  0.608948  0.264151  0.237736   \n",
       "12567  0.309969  0.419896  0.580104  0.420231  0.579769  0.440239  0.159363   \n",
       "12569  0.219469  0.416216  0.583784  0.381402  0.618598  0.360294  0.187500   \n",
       "11692  0.278886  0.344217  0.655783  0.255151  0.744849  0.305660  0.188679   \n",
       "\n",
       "            UGA  \n",
       "13026  0.467066  \n",
       "13015  0.531157  \n",
       "12631  0.495495  \n",
       "12613  0.498113  \n",
       "12567  0.400398  \n",
       "12569  0.452206  \n",
       "11692  0.505660  \n",
       "\n",
       "[7 rows x 69 columns]"
      ]
     },
     "execution_count": 33,
     "metadata": {},
     "output_type": "execute_result"
    }
   ],
   "source": [
    "normalize_codom_bias(class_animals)\n",
    "class_animals"
   ]
  },
  {
   "cell_type": "markdown",
   "id": "410d05fd",
   "metadata": {},
   "source": [
    "Once the data frame has been correctly created, it can be used to create a difference dictionary. This was done using the previously defined create_diff_codon_dict function. "
   ]
  },
  {
   "cell_type": "code",
   "execution_count": 34,
   "id": "5ecf2b99-2feb-4740-bba2-172a8cbe2f63",
   "metadata": {},
   "outputs": [
    {
     "data": {
      "text/plain": [
       "{'Homo sapiens': {'Gorilla gorilla': 0.02443789311971261,\n",
       "  'Oryctolagus cuniculus': 0.24826376470476216,\n",
       "  'Bos taurus': 0.05313818861699202,\n",
       "  'Equus asinus': 0.35914121108476615,\n",
       "  'Equus caballus': 0.06435768818250565,\n",
       "  'Oncorhynchus mykiss': 0.32169389399993137},\n",
       " 'Gorilla gorilla': {'Homo sapiens': 0.02443789311971261,\n",
       "  'Oryctolagus cuniculus': 0.23013620546614208,\n",
       "  'Bos taurus': 0.0576311559611267,\n",
       "  'Equus asinus': 0.357124487446245,\n",
       "  'Equus caballus': 0.06810767531135295,\n",
       "  'Oncorhynchus mykiss': 0.26483562383024917},\n",
       " 'Oryctolagus cuniculus': {'Homo sapiens': 0.24826376470476216,\n",
       "  'Gorilla gorilla': 0.23013620546614208,\n",
       "  'Bos taurus': 0.07853291124307733,\n",
       "  'Equus asinus': 0.3252056404489305,\n",
       "  'Equus caballus': 0.10583784047025326,\n",
       "  'Oncorhynchus mykiss': 0.1539702829947261},\n",
       " 'Bos taurus': {'Homo sapiens': 0.05313818861699202,\n",
       "  'Gorilla gorilla': 0.0576311559611267,\n",
       "  'Oryctolagus cuniculus': 0.07853291124307733,\n",
       "  'Equus asinus': 0.2999421615519414,\n",
       "  'Equus caballus': 0.02638633923613455,\n",
       "  'Oncorhynchus mykiss': 0.17703076608884288},\n",
       " 'Equus asinus': {'Homo sapiens': 0.35914121108476615,\n",
       "  'Gorilla gorilla': 0.357124487446245,\n",
       "  'Oryctolagus cuniculus': 0.3252056404489305,\n",
       "  'Bos taurus': 0.2999421615519414,\n",
       "  'Equus caballus': 0.21926678118057008,\n",
       "  'Oncorhynchus mykiss': 0.37069698026820813},\n",
       " 'Equus caballus': {'Homo sapiens': 0.06435768818250565,\n",
       "  'Gorilla gorilla': 0.06810767531135295,\n",
       "  'Oryctolagus cuniculus': 0.10583784047025326,\n",
       "  'Bos taurus': 0.02638633923613455,\n",
       "  'Equus asinus': 0.21926678118057008,\n",
       "  'Oncorhynchus mykiss': 0.15228177452501823},\n",
       " 'Oncorhynchus mykiss': {'Homo sapiens': 0.32169389399993137,\n",
       "  'Gorilla gorilla': 0.26483562383024917,\n",
       "  'Oryctolagus cuniculus': 0.1539702829947261,\n",
       "  'Bos taurus': 0.17703076608884288,\n",
       "  'Equus asinus': 0.37069698026820813,\n",
       "  'Equus caballus': 0.15228177452501823}}"
      ]
     },
     "execution_count": 34,
     "metadata": {},
     "output_type": "execute_result"
    }
   ],
   "source": [
    "#create dictionary of difference for class animals\n",
    "create_diff_codon_dict(class_animals)"
   ]
  },
  {
   "cell_type": "markdown",
   "id": "c722bbaa",
   "metadata": {},
   "source": [
    "Finally, a tree can be created of all of the animals used in class. This was done the same was as previously done. "
   ]
  },
  {
   "cell_type": "code",
   "execution_count": 35,
   "id": "a64b8cb2-76d3-46af-bf11-e5449354c5e2",
   "metadata": {},
   "outputs": [
    {
     "data": {
      "image/png": "[encoded data removed]",
      "text/plain": [
       "<Figure size 432x288 with 1 Axes>"
      ]
     },
     "metadata": {
      "needs_background": "light"
     },
     "output_type": "display_data"
    }
   ],
   "source": [
    "# Create matrix of differences\n",
    "diff_dict = create_diff_codon_dict(class_animals)\n",
    "\n",
    "# Create Node based tree\n",
    "index_tree = generate_phylogenetic_tree(diff_dict)\n",
    "\n",
    "# Generate PhyloXML file\n",
    "write_tree_xml(index_tree, 'animal_tree')\n",
    "\n",
    "# Load and visualize phylogenetic tree\n",
    "tree = Phylo.read('animal_tree.xml', 'phyloxml')\n",
    "tree.ladderize()\n",
    "Phylo.draw(tree)"
   ]
  },
  {
   "cell_type": "markdown",
   "id": "f6589dfb-ba8d-4380-9c3c-bdd618153169",
   "metadata": {
    "tags": []
   },
   "source": [
    "# Results and Discussion"
   ]
  },
  {
   "cell_type": "markdown",
   "id": "a8744a75",
   "metadata": {},
   "source": [
    "Overall, this method seemed to work on some animals. The tree produced for rodents was similar to accepted phylogenetic trees and the tree produced for in-class animals also had some resemblance to the tree created in class. For the rodents, Peromyscus leucopus and Peromyscus maniculatus should have been closely related, but they were instead placed at opposite ends of the tree. The weirdest result for the in-class animals was the donkey. The donkey appeared to be distantly related to the rest of the mammals--more distantly than the trout. It also put cows and horses to be closely related unlike in class. However, some sources suggests that this may need corrected. The rodents saw similar results: most of the tree matched accepted relationships with a few vastly more distantly related than the should be. One reason for these discrepancies could be incomplete data. For many animals, the codon bias in the original csv file only accounts for a small fraction of the genome. Should more of the genome be analyzed, it is possible that this would improve the results. Another concern is that the distances for the rodents is much greater than the distances for in class animals. Theoretically, the rodents should be more closely related to each other than the in class animals are. This could also be caused by the incomplete data. Another potential source of error is an issue in the distance function that has not been accounted for. Overall, codon bias seems to be correlated to phylogenetics however more testing is required to determine the other factors at play. "
   ]
  },
  {
   "cell_type": "markdown",
   "id": "a321d8ae-d9d9-475d-a496-eff1711a48db",
   "metadata": {
    "jp-MarkdownHeadingCollapsed": true,
    "tags": []
   },
   "source": [
    "# Next Steps"
   ]
  },
  {
   "cell_type": "markdown",
   "id": "925154d9",
   "metadata": {},
   "source": [
    "Future steps in this project could explore this method with a larger data set to confirm if the results hold true. The mitochondrial data could be used to see if that would be able to create a more accurate phylogenetic tree. Mitochondrial DNA could also be compared to bacteria to track the relationship between mitochondria and modern bacteria. Finally, the discrepancies in the tree created could be explored to determine the cause of the discrepancies. A different data set could be used which accounts for a larger percentage of the genome. This would determine if these discrepancies are due to incomplete data or another factor. Once this is determined, it would direct the next steps of this project as the relationship between codon bias and phylogenetics are explored."
   ]
  },
  {
   "cell_type": "markdown",
   "id": "5ec0e90e-f870-492f-8199-4e57dfff7c7a",
   "metadata": {},
   "source": [
    "# Sources"
   ]
  },
  {
   "cell_type": "markdown",
   "id": "e47e4e76-c4d9-4369-8e59-ef7fdddc86bf",
   "metadata": {},
   "source": [
    "Codon Bias Dataset: www.kaggle.com/datasets/salikhussaini49/codon-usage\n",
    "\n",
    "Rodent Phylogeny: www.ncbi.nlm.nih.gov/pmc/articles/PMC3532383/"
   ]
  }
 ],
 "metadata": {
  "kernelspec": {
   "display_name": "Python 3 (ipykernel)",
   "language": "python",
   "name": "python3"
  },
  "language_info": {
   "codemirror_mode": {
    "name": "ipython",
    "version": 3
   },
   "file_extension": ".py",
   "mimetype": "text/x-python",
   "name": "python",
   "nbconvert_exporter": "python",
   "pygments_lexer": "ipython3",
   "version": "3.9.12"
  },
  "vscode": {
   "interpreter": {
    "hash": "f20dff440aef99150ae1941fcd47b7a44774f1da83e43ded31b3d09df4d38de2"
   }
  }
 },
 "nbformat": 4,
 "nbformat_minor": 5
}
